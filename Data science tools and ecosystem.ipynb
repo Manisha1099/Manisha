{
 "cells": [
  {
   "cell_type": "markdown",
   "id": "370f6f60",
   "metadata": {},
   "source": [
    "In this notebook, Data Science Tools and Ecosystem are summarized."
   ]
  },
  {
   "cell_type": "markdown",
   "id": "ce89196e",
   "metadata": {},
   "source": [
    "Some of the popular languages that Data Scientists use are:\n",
    "\n",
    "1. Python\n",
    "2. R\n",
    "3. Scala\n",
    "4. SQL"
   ]
  },
  {
   "cell_type": "markdown",
   "id": "0fa30138",
   "metadata": {},
   "source": [
    "Some of the commonly used libraries used by Data Scientists include:\n",
    "\n",
    "1. Pandas\n",
    "2. Seaborn\n",
    "3. Numpy\n",
    "4. Matplotlib\n",
    "5. Ggplot2"
   ]
  },
  {
   "cell_type": "markdown",
   "id": "a29e2bc4",
   "metadata": {},
   "source": [
    "Below are a few examples of evaluating arithmetic expressions in Python"
   ]
  },
  {
   "cell_type": "code",
   "execution_count": 4,
   "id": "926094ef",
   "metadata": {},
   "outputs": [
    {
     "name": "stdout",
     "output_type": "stream",
     "text": [
      "17\n"
     ]
    }
   ],
   "source": [
    "# This a simple arithmetic expression to mutiply then add integers\n",
    "print((3*4)+5)"
   ]
  },
  {
   "cell_type": "code",
   "execution_count": 1,
   "id": "8d622af0",
   "metadata": {},
   "outputs": [
    {
     "name": "stdout",
     "output_type": "stream",
     "text": [
      "The minute is 200\n",
      "Hour is 3\n"
     ]
    }
   ],
   "source": [
    "# This will convert 200 minutes to hours by diving by 60\n",
    "print(\"The minute is 200\")\n",
    "print(\"Hour is\", round(200/60.0))"
   ]
  },
  {
   "cell_type": "markdown",
   "id": "c9c48a13",
   "metadata": {},
   "source": [
    "List popular languages for Data Science\n",
    "\n",
    "Objectives:\n",
    "\n",
    ". Python\n",
    ". R\n",
    ". Scala"
   ]
  },
  {
   "cell_type": "markdown",
   "id": "aea82b3e",
   "metadata": {},
   "source": [
    "Author\n",
    "\n",
    "Manisha"
   ]
  }
 ],
 "metadata": {
  "kernelspec": {
   "display_name": "Python 3 (ipykernel)",
   "language": "python",
   "name": "python3"
  },
  "language_info": {
   "codemirror_mode": {
    "name": "ipython",
    "version": 3
   },
   "file_extension": ".py",
   "mimetype": "text/x-python",
   "name": "python",
   "nbconvert_exporter": "python",
   "pygments_lexer": "ipython3",
   "version": "3.9.13"
  }
 },
 "nbformat": 4,
 "nbformat_minor": 5
}
